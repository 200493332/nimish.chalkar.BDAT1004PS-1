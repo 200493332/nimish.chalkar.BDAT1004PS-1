{
 "cells": [
  {
   "cell_type": "markdown",
   "id": "7ff4aec2-6cb6-4652-87f9-8ff11cf9de99",
   "metadata": {},
   "source": [
    "# Problem Set 1"
   ]
  },
  {
   "cell_type": "markdown",
   "id": "beaaafe8-998c-4495-9961-29f7df5fd2f7",
   "metadata": {},
   "source": [
    "### Question 1:\n",
    "\n",
    "What data type is each of the following (evaluate where necessary)?"
   ]
  },
  {
   "cell_type": "markdown",
   "id": "6dc6a0f9-0c3d-4b84-8e37-73495b0e8f81",
   "metadata": {},
   "source": [
    "5 #int  \n",
    "5.0 #float  \n",
    "5 > 1 --> True #bool  \n",
    "'5' #str  \n",
    "5 * 2 --> 10 #int  \n",
    "'5' * 2 --> '55' #str  \n",
    "'5' + '2' --> '52' #str  \n",
    "5 / 2 --> 2.5 #float  \n",
    "5 % 2 --> 1 #int  \n",
    "{5, 2, 1} #set  \n",
    "5 == 3 --> False #bool  \n",
    "3.14 #float  "
   ]
  },
  {
   "cell_type": "markdown",
   "id": "69fe4d4e-7453-4d5d-b783-e451838c9d23",
   "metadata": {},
   "source": [
    "### Question 2:"
   ]
  },
  {
   "cell_type": "markdown",
   "id": "08e5b292-e490-424a-b396-d455b9243976",
   "metadata": {},
   "source": [
    "a. How many letters are there in 'Supercalifragilisticexpialidocious'?"
   ]
  },
  {
   "cell_type": "code",
   "execution_count": 1,
   "id": "95cef560-a11f-43d6-a20c-70d4a1aadf21",
   "metadata": {},
   "outputs": [
    {
     "data": {
      "text/plain": [
       "34"
      ]
     },
     "execution_count": 1,
     "metadata": {},
     "output_type": "execute_result"
    }
   ],
   "source": [
    "len(\"Supercalifragilisticexpialidocious\")"
   ]
  },
  {
   "cell_type": "markdown",
   "id": "f6bc0e2f-c7c2-4b9a-9cbc-f5a9ad460191",
   "metadata": {},
   "source": [
    "b. Does 'Supercalifragilisticexpialidocious' contain 'ice' as a substring?"
   ]
  },
  {
   "cell_type": "code",
   "execution_count": 2,
   "id": "7b66b81c-652f-40f6-b9a9-b334b2a639dd",
   "metadata": {},
   "outputs": [
    {
     "data": {
      "text/plain": [
       "'Yes'"
      ]
     },
     "execution_count": 2,
     "metadata": {},
     "output_type": "execute_result"
    }
   ],
   "source": [
    "\"Yes\" if \"ice\" in \"Supercalifragilisticexpialidocious\" else \"No\""
   ]
  },
  {
   "cell_type": "markdown",
   "id": "c9c76153-4d0d-495f-bfde-bf18ddf81078",
   "metadata": {},
   "source": [
    "c. Which of the following words is the longest:\n",
    "Supercalifragilisticexpialidocious, Honorificabilitudinitatibus, or\n",
    "Bababadalgharaghtakamminarronnkonn?"
   ]
  },
  {
   "cell_type": "code",
   "execution_count": 3,
   "id": "a8c7ec6d-1ecb-4f7e-b08b-a8dec1839e50",
   "metadata": {},
   "outputs": [
    {
     "data": {
      "text/plain": [
       "'Supercalifragilisticexpialidocious'"
      ]
     },
     "execution_count": 3,
     "metadata": {},
     "output_type": "execute_result"
    }
   ],
   "source": [
    "max(\"Supercalifragilisticexpialidocious\", \"Honorificabilitudinitatibus\", \"Bababadalgharaghtakamminarronnkonn\")"
   ]
  },
  {
   "cell_type": "markdown",
   "id": "07be62f3-23cd-4d94-8556-d8ef3fe00c57",
   "metadata": {},
   "source": [
    "d. Which composer comes first in the dictionary: 'Berlioz', 'Borodin', 'Brian',\n",
    "'Bartok', 'Bellini', 'Buxtehude', 'Bernstein'. Which one comes last?"
   ]
  },
  {
   "cell_type": "code",
   "execution_count": 4,
   "id": "4c3ed1cb-e7f4-41d6-82d5-b6597c1d670a",
   "metadata": {},
   "outputs": [
    {
     "name": "stdout",
     "output_type": "stream",
     "text": [
      "First: Bartok, Last: Buxtehude\n"
     ]
    }
   ],
   "source": [
    "ord=sorted([\"Berlioz\", \"Borodin\", \"Brian\", \"Bartok\", \"Bellini\", \"Buxtehude\", \"Bernstein\"])\n",
    "print(f\"First: {ord[0]}, Last: {ord[-1]}\")"
   ]
  },
  {
   "cell_type": "markdown",
   "id": "e60b2fe4-8386-49a2-9d36-207bc8e7978a",
   "metadata": {},
   "source": [
    "### Question 3:\n",
    "Implement function triangleArea(a,b,c) that takes as input the lengths of the 3\n",
    "sides of a triangle and returns the area of the triangle. By Heron's formula, the area\n",
    "of a triangle with side lengths a, b, and c is\n",
    "s(s - a)(s -b)(s -c), where\n",
    "s = (a +b + c) /2."
   ]
  },
  {
   "cell_type": "code",
   "execution_count": 5,
   "id": "9d9977f3-ce69-4424-83f3-f91f83630eeb",
   "metadata": {},
   "outputs": [
    {
     "data": {
      "text/plain": [
       "1.7320508075688772"
      ]
     },
     "execution_count": 5,
     "metadata": {},
     "output_type": "execute_result"
    }
   ],
   "source": [
    "import math # for using the built-in sqrt() function\n",
    "\n",
    "def triangleArea(a: int, b: int, c: int):\n",
    "    s=sum([a, b, c])/2\n",
    "    return math.sqrt(s*(s-a)*(s-b)*(s-c))\n",
    "\n",
    "triangleArea(2,2,2)"
   ]
  },
  {
   "cell_type": "markdown",
   "id": "5aa747fe-633b-4f1c-a922-5ff8d7c97cbc",
   "metadata": {},
   "source": [
    "### Question 4:\n",
    "Write a program in python to separate odd and even integers in separate arrays. Go\n",
    "to the editor  \n",
    "Test Data :\n",
    "Input the number of elements to be stored in the array :5  \n",
    "Input 5 elements in the array :  \n",
    "element - 0 : 25  \n",
    "element - 1 : 47  \n",
    "element - 2 : 42  \n",
    "element - 3 : 56  \n",
    "element - 4 : 32  \n",
    "Expected Output:  \n",
    "The Even elements are:  \n",
    "42 56 32  \n",
    "The Odd elements are :  \n",
    "25 47  "
   ]
  },
  {
   "cell_type": "code",
   "execution_count": 6,
   "id": "d9203ec7-684c-45a9-887c-7c99e3934866",
   "metadata": {},
   "outputs": [
    {
     "name": "stdin",
     "output_type": "stream",
     "text": [
      "Input the number of elements to be stored in the array:  5\n"
     ]
    },
    {
     "name": "stdout",
     "output_type": "stream",
     "text": [
      "Input 5 elements in the array: \n"
     ]
    },
    {
     "name": "stdin",
     "output_type": "stream",
     "text": [
      " 25\n",
      " 47\n",
      " 42\n",
      " 56\n",
      " 32\n"
     ]
    },
    {
     "name": "stdout",
     "output_type": "stream",
     "text": [
      "The Even elements are: \n",
      "[42, 56, 32]\n",
      "The Odd elements are: \n",
      "[25, 47]\n"
     ]
    }
   ],
   "source": [
    "size = int(input(\"Input the number of elements to be stored in the array: \"))\n",
    "print(f\"Input {size} elements in the array: \")\n",
    "arr = [int(input()) for i in range(size)]\n",
    "even = list(filter(lambda x: x%2==0, arr)) # using the built-in filter and lambda functions to\n",
    "odd = list(filter(lambda y: y%2==1, arr))  # check the odd/even elements\n",
    "print(f\"\"\"The Even elements are: \n",
    "{even}\n",
    "The Odd elements are: \n",
    "{odd}\"\"\")"
   ]
  },
  {
   "cell_type": "markdown",
   "id": "d05c4ed5-1b53-47f6-8cf7-1328aee95160",
   "metadata": {},
   "source": [
    "### Question 5:\n",
    "a. Write a function inside(x,y,x1,y1,x2,y2) that returns True or False depending on whether the point (x,y) lies in the rectangle with lower left corner (x1,y1) and upper right corner (x2,y2)."
   ]
  },
  {
   "cell_type": "code",
   "execution_count": 7,
   "id": "e97d947b-77ea-4aef-b10b-8e009bb09dd4",
   "metadata": {},
   "outputs": [
    {
     "data": {
      "text/plain": [
       "True"
      ]
     },
     "execution_count": 7,
     "metadata": {},
     "output_type": "execute_result"
    }
   ],
   "source": [
    "def inside(x,y,x1,y1,x2,y2):\n",
    "    return x1<x<x2 and y1<y<y2\n",
    "\n",
    "inside(1,1,0,0,2,3)"
   ]
  },
  {
   "cell_type": "code",
   "execution_count": 8,
   "id": "620874b7-1052-431a-b263-1fcb43563552",
   "metadata": {},
   "outputs": [
    {
     "data": {
      "text/plain": [
       "False"
      ]
     },
     "execution_count": 8,
     "metadata": {},
     "output_type": "execute_result"
    }
   ],
   "source": [
    "inside(-1,-1,0,0,2,3)"
   ]
  },
  {
   "cell_type": "markdown",
   "id": "d47e4478-43d8-48c5-901e-ac69f32f865a",
   "metadata": {},
   "source": [
    "b. Use function inside() from part a. to write an expression that tests whether the point (1,1) lies in both of the following rectangles: one with lower left corner (0.3, 0.5) and upper right corner (1.1, 0.7) and the other with lower left corner (0.5, 0.2) and upper right corner (1.1, 2)."
   ]
  },
  {
   "cell_type": "code",
   "execution_count": 9,
   "id": "9614d948-c7f8-459a-a206-3412c42bf532",
   "metadata": {},
   "outputs": [
    {
     "data": {
      "text/plain": [
       "False"
      ]
     },
     "execution_count": 9,
     "metadata": {},
     "output_type": "execute_result"
    }
   ],
   "source": [
    "inside(1,1,0.3,0.5,1.1,0.7) and inside(1,1,0.5,0.2,1.1,2)"
   ]
  },
  {
   "cell_type": "markdown",
   "id": "c6d29166-1b65-4ab2-a007-644db1d5201f",
   "metadata": {},
   "source": [
    "### Question 6:\n",
    "You can turn a word into pig-Latin using the following two rules (simplified):\n",
    "• If the word starts with a consonant, move that letter to the end and append 'ay'. For example, 'happy' becomes 'appyhay' and 'pencil' becomes 'encilpay'.\n",
    "• If the word starts with a vowel, simply append 'way' to the end of the word. For example, 'enter' becomes 'enterway' and 'other' becomes 'otherway' . For our purposes, there are 5 vowels: a, e, i, o, u (so we count y as a consonant).\n",
    "Write a function pig() that takes a word (i.e., a string) as input and returns its pig-Latin form. Your function should still work if the input word contains upper case characters. Your output should always be lower case however."
   ]
  },
  {
   "cell_type": "code",
   "execution_count": 10,
   "id": "60acb27a-7641-43b3-b36c-50c35f109d64",
   "metadata": {},
   "outputs": [
    {
     "data": {
      "text/plain": [
       "'appyhay'"
      ]
     },
     "execution_count": 10,
     "metadata": {},
     "output_type": "execute_result"
    }
   ],
   "source": [
    "def pig(word: str):\n",
    "    vowel = \"aeiou\"\n",
    "    word = word.lower()\n",
    "    if word[0] in vowel:\n",
    "        return word+\"way\"\n",
    "    else:\n",
    "        return word[1:]+word[0]+\"ay\"\n",
    "\n",
    "pig(\"hApPy\")"
   ]
  },
  {
   "cell_type": "code",
   "execution_count": 11,
   "id": "ba24912d-8be5-4f48-95a0-096116cc3ec8",
   "metadata": {},
   "outputs": [
    {
     "data": {
      "text/plain": [
       "'enterway'"
      ]
     },
     "execution_count": 11,
     "metadata": {},
     "output_type": "execute_result"
    }
   ],
   "source": [
    "pig(\"EnTeR\")"
   ]
  },
  {
   "cell_type": "markdown",
   "id": "d34f8ced-8025-4805-895b-e3c7748ba13f",
   "metadata": {},
   "source": [
    "### Question 7:\n",
    "File bloodtype1.txt records blood-types of patients (A, B, AB, O or OO) at a clinic. Write a function bldcount() that reads the file with name name and reports (i.e., prints) how many patients there are in each bloodtype."
   ]
  },
  {
   "cell_type": "code",
   "execution_count": 12,
   "id": "5a435493-e3d6-412e-943a-680f0cdce7b8",
   "metadata": {},
   "outputs": [
    {
     "name": "stdout",
     "output_type": "stream",
     "text": [
      "There are 10 patients of blood type A.\n",
      " There is one patient of blood type B.\n",
      " There are 10 patients of blood type AB.\n",
      " There are 12 patients of blood type O.\n",
      " There are no patients of blood type OO.\n"
     ]
    }
   ],
   "source": [
    "def bldcount(file: str):\n",
    "    with open(file, \"r\") as f:\n",
    "        report = f.readlines()\n",
    "    print(*report)\n",
    "\n",
    "bldcount(\"/home/studio-lab-user/sagemaker-studiolab-notebooks/bloodtype.txt\")"
   ]
  },
  {
   "cell_type": "markdown",
   "id": "e651cd43-76cd-4493-bdec-a5188e3cd909",
   "metadata": {},
   "source": [
    "### Question 8:\n",
    "Write a function curconv() that takes as input:\n",
    "1. a currency represented using a string (e.g., 'JPY' for the Japanese Yen or 'EUR' for the Euro)\n",
    "2. an amount and then converts and returns the amount in US dollars.  \n",
    "The currency rates you will need are stored in file currencies.txt  "
   ]
  },
  {
   "cell_type": "code",
   "execution_count": 13,
   "id": "6ad3f791-a02a-46af-8834-56d882793592",
   "metadata": {},
   "outputs": [],
   "source": [
    "def curconv(cur: str, amt: int):\n",
    "    # read-in the file to get the rates\n",
    "    with open(\"/home/studio-lab-user/sagemaker-studiolab-notebooks/currencies.txt.rtf\", \"r\") as f:\n",
    "        rates = dict([line.split()[0:2] for line in f.readlines()])\n",
    "    return amt*float(rates[cur]) # calculating the final output"
   ]
  },
  {
   "cell_type": "code",
   "execution_count": 14,
   "id": "fe3443f2-a902-49a9-b326-b522ae98a6b7",
   "metadata": {},
   "outputs": [
    {
     "data": {
      "text/plain": [
       "1.241401"
      ]
     },
     "execution_count": 14,
     "metadata": {},
     "output_type": "execute_result"
    }
   ],
   "source": [
    "curconv('JPY', 100)"
   ]
  },
  {
   "cell_type": "code",
   "execution_count": 15,
   "id": "9d258775-d28b-440a-8231-422bde2975f4",
   "metadata": {},
   "outputs": [
    {
     "data": {
      "text/plain": [
       "122.96544"
      ]
     },
     "execution_count": 15,
     "metadata": {},
     "output_type": "execute_result"
    }
   ],
   "source": [
    "curconv('EUR', 100)"
   ]
  },
  {
   "cell_type": "markdown",
   "id": "6b4dc1ad-7e64-46b2-ba76-03b5cde4466d",
   "metadata": {},
   "source": [
    "### Question 9\n",
    "Each of the following will cause an exception (an error). Identify what type of exception each will cause."
   ]
  },
  {
   "cell_type": "markdown",
   "id": "27b7c853-f536-4f72-b327-41405c9e359a",
   "metadata": {},
   "source": [
    "a. Trying to add incompatible variables, as in\n",
    "adding 6 + ‘a’"
   ]
  },
  {
   "cell_type": "code",
   "execution_count": 16,
   "id": "511399a1-5291-477e-b140-587cf0c9841d",
   "metadata": {},
   "outputs": [],
   "source": [
    "# TypeError: unsupported operand type(s) for +: 'int' and 'str'"
   ]
  },
  {
   "cell_type": "markdown",
   "id": "207a88fe-f21e-4c11-9c0b-f3f40fd94dc8",
   "metadata": {},
   "source": [
    "b. Referring to the 12th item of a list that has only 10 items"
   ]
  },
  {
   "cell_type": "code",
   "execution_count": 17,
   "id": "698f6972-4df6-4742-b006-10fe64dc608a",
   "metadata": {},
   "outputs": [],
   "source": [
    "# IndexError: list index out of range"
   ]
  },
  {
   "cell_type": "markdown",
   "id": "f83666fb-3e63-47d6-b658-ee5ee5b76cd2",
   "metadata": {},
   "source": [
    "c. Using a value that is out of range for a function’s input, such as calling math.sqrt( 1.0)"
   ]
  },
  {
   "cell_type": "code",
   "execution_count": 18,
   "id": "5594b34c-0f6d-4b77-91ff-88dcd715c014",
   "metadata": {},
   "outputs": [],
   "source": [
    "# ValueError: math domain error"
   ]
  },
  {
   "cell_type": "markdown",
   "id": "ed10b5e6-b9b5-4a85-80bd-8c57ff48dbca",
   "metadata": {},
   "source": [
    "d. Using an undeclared variable, such as print(x) when x has not been defined"
   ]
  },
  {
   "cell_type": "code",
   "execution_count": 19,
   "id": "e28a3f6f-4c72-41e9-8ea8-11859e10672f",
   "metadata": {},
   "outputs": [],
   "source": [
    "# NameError: name 'x' is not defined"
   ]
  },
  {
   "cell_type": "markdown",
   "id": "10eefea7-1654-45d4-a753-d3070dac4690",
   "metadata": {},
   "source": [
    "e. Trying to open a file that does not exist, such as mistyping the file name or looking in the wrong directory."
   ]
  },
  {
   "cell_type": "code",
   "execution_count": 20,
   "id": "5fa91304-8bb8-46fa-83a1-b8890b7b75c1",
   "metadata": {},
   "outputs": [],
   "source": [
    "# FileNotFoundError: [Errno 2] No such file or directory: 'abc'"
   ]
  },
  {
   "cell_type": "markdown",
   "id": "3467b867-bcf2-4fa2-a7d6-794843602857",
   "metadata": {},
   "source": [
    "### Question 10:\n",
    "Encryption is the process of hiding the meaning of a text by substituting letters in the message with other letters, according to some system. If the process is successful, no one but the intended recipient can understand the encrypted message. Cryptanalysis refers to attempts to undo the encryption, even if some details of the encryption are unknown (for example, if an encrypted message has been intercepted). The first step of cryptanalysis is often to build up a table of letter frequencies in the encrypted text. Assume that the string letters is already defined as 'abcdefghijklmnopqrstuvwxyz'. Write a function called frequencies() that takes a string as its only parameter, and returns a list of integers, showing the number of times each character appears in the text. Your function may ignore any characters that are not in letters."
   ]
  },
  {
   "cell_type": "code",
   "execution_count": 21,
   "id": "c14d3f1e-c378-4ffe-8f4a-acfa465da5a6",
   "metadata": {},
   "outputs": [
    {
     "data": {
      "text/plain": [
       "[1, 1, 1, 3, 5, 1, 1, 2, 1, 0, 1, 0, 1, 2, 4, 0, 1, 2, 0, 2, 1, 0, 1, 1, 0, 0]"
      ]
     },
     "execution_count": 21,
     "metadata": {},
     "output_type": "execute_result"
    }
   ],
   "source": [
    "def frequencies(word: str):\n",
    "    string = \"abcdefghijklmnopqrstuvwxyz\"\n",
    "    freq=[]\n",
    "    for _ in string:\n",
    "        if _ in word:\n",
    "            freq.append(word.count(_))\n",
    "        else:\n",
    "            freq.append(0)\n",
    "    return freq\n",
    "\n",
    "frequencies(\"The quick red fox got bored and went home.\")"
   ]
  },
  {
   "cell_type": "code",
   "execution_count": 22,
   "id": "05ceb662-d128-4531-9b3e-b946895276fd",
   "metadata": {},
   "outputs": [
    {
     "data": {
      "text/plain": [
       "[1, 0, 0, 0, 1, 0, 0, 0, 0, 0, 0, 1, 0, 0, 0, 2, 0, 0, 0, 0, 0, 0, 0, 0, 0, 0]"
      ]
     },
     "execution_count": 22,
     "metadata": {},
     "output_type": "execute_result"
    }
   ],
   "source": [
    "frequencies(\"apple\")"
   ]
  }
 ],
 "metadata": {
  "kernelspec": {
   "display_name": "default:Python",
   "language": "python",
   "name": "conda-env-default-py"
  },
  "language_info": {
   "codemirror_mode": {
    "name": "ipython",
    "version": 3
   },
   "file_extension": ".py",
   "mimetype": "text/x-python",
   "name": "python",
   "nbconvert_exporter": "python",
   "pygments_lexer": "ipython3",
   "version": "3.9.10"
  }
 },
 "nbformat": 4,
 "nbformat_minor": 5
}
